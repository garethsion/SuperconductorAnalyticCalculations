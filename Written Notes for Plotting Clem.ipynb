{
 "cells": [
  {
   "cell_type": "markdown",
   "metadata": {},
   "source": [
    "# Section II - Inductances for a Thin-Film CPW Assuming No Field penetration\n",
    "\n",
    "Consider a cpw with a center conductor $(|x| <a$, $|y| < d/2$, which carries a current $I_{z}$ in the $z$ direction. When $d \\ll a$, and $\\lambda^{2}/d << a$, a magnetic flux per unit length passes up through the right-hand slot ($a < x < b$, and down through the left-hand slot) (-b < x < -a). \n",
    "\n",
    "Assume that $b-a \\gg \\lambda^{2}/d$, so we can neglect the flux which penetrates into the film edges\n"
   ]
  },
  {
   "cell_type": "markdown",
   "metadata": {},
   "source": [
    "The complex magnetic field $H(\\zeta) = H_{y}(x,y) + iH_{x}(x,y)$ describing this situation is \n",
    "\n",
    "\\begin{equation}\n",
    "    H(\\zeta) = \\frac{ iA }{ \\sqrt{(\\zeta^{2}-a^{2}) (\\zeta^{2}-b^{2}) } }\n",
    "\\end{equation}\n",
    "\n",
    ".... where $\\zeta = x + iy$, and A is some constant, determined later. The magnetic flux density in the plane $y=0$ in the slots ($a < |x| < b$) is $B_{y}(x,0) = \\mu_{0}H_{y}(x,0)$, where:\n",
    "\n",
    "\\begin{equation}\n",
    "    H_{y}(x,0) = \\frac{ A_{x} }{|x| \\sqrt{(x^{2}-a^{2}) (b^{2}-x^{2}) } }\n",
    "\\end{equation}\n",
    "\n",
    ".... and the average sheet current density in the centre-conductor and the ground plane, averaged over the film thickness, is given by $K_{z}(x) = -2H_{x}(x,\\epsilon)$, where:\n",
    "\n",
    "\\begin{equation}\n",
    "K_{z}(x) = \n",
    "\\begin{cases}\n",
    "    & \\frac{ 2A }{\\sqrt{(a^{2}-x^{2}) (b^{2}-x^{2}) } }, & |x| < a  \\\\\n",
    "    & -\\frac{ 2A }{\\sqrt{(x^{2}-a^{2}) (x^{2}-b^{2}) } }, & |x| > a\n",
    "\\end{cases}\n",
    "\\end{equation}\n",
    "\n",
    "$H_{y}(x,0)$ and $K_{z}(x)$ are shown below for $a=1$, $b=2$, and $A=1$\n",
    "\n",
    "<img src=\"figs/ClemFig1_Hy_and_Kz.pdf\"\\>\n",
    "\n",
    "The constant A can be determined from the requirewment that the current carried by the central conductor $I_{z}$ is:\n",
    "\n",
    "\\begin{equation}\n",
    "    I_{z} = \\frac{4A}{b} \\textbf{K}(k)\n",
    "\\end{equation}\n",
    "\n",
    "The magnetic flux per unit length $\\Phi'$ is found by integrating $H_{y}(x,0)$ over the slot, giving:\n",
    "\n",
    "\\begin{equation}\n",
    "    \\Phi' = \\frac{\\mu_0A}{b} \\textbf{K}(k') = \\frac{\\mu_{0}\\textbf{K}(k')}{4\\textbf{K}(k)}\n",
    "\\end{equation}\n",
    "\n",
    "The complex potential from which $H(\\zeta)$ can be derived via $H(\\zeta) = d\\mathcal{G}/d\\zeta $ is\n",
    "\n",
    "\\begin{equation}\n",
    "    \\mathcal{G}(\\zeta) = \\frac{iA}{b} F\\left[ \\arcsin \\left( \\frac{\\zeta}{a} \\right), \\frac{a}{b} \\right]\n",
    "\\end{equation}\n",
    "\n",
    ".... where $F(\\phi,k)$ is the incomplete elliptic integral of the first kind with amplitude $\\phi$ and modulus $k$."
   ]
  },
  {
   "cell_type": "markdown",
   "metadata": {},
   "source": [
    "### A. Geometric Inductance for $\\lambda^{2}/d \\ll a$\n",
    "\n",
    "We can recover the result for geometric inductance from $I_{z}$ and $\\Phi'$:\n",
    "\n",
    "\\begin{equation}\n",
    "    L'_{m} = \\frac{\\Phi'}{I_{z}} = \\frac{\\mu_{0} \\textbf{K}(k')}{\\textbf{K}(k)}\n",
    "\\end{equation}\n",
    "\n",
    "For large $b/a$, this is well approximated by:\n",
    "\n",
    "\\begin{equation}\n",
    "    L'_{m} \\approx \\frac{\\mu_{0}}{2\\pi} \\left[ \\ln(4b/a) - (a/2b)^{2} \\right]\n",
    "\\end{equation}\n",
    "\n",
    "For $(b-a) \\ll a$:\n",
    "\n",
    "\\begin{equation}\n",
    "    L'_{m} \\approx \\frac{ \\left(\\frac{\\pi\\mu_{0}}{4}\\right) }{ \\ln\\left( \\frac{8a}{b-a} \\right) }\n",
    "\\end{equation}\n",
    "\n",
    "<img src=\"figs/ClemFig3_Lm_with_approxs.pdf\" \\>"
   ]
  },
  {
   "cell_type": "markdown",
   "metadata": {},
   "source": [
    "### B. Kinetic Inductance for $\\lambda^{2}/d \\ll a$\n",
    "\n",
    "With $I_{z} \\ll I_{c}$, the penetration depth is well approximated by the low-current $\\lambda$. The kinetic energy per unit volume of the supercurrent in this case is $\\mu_{0}\\lambda^{2}j^{2}/2$, where $j$ is the supercurrent density. The kinetic inductance per unit length can be calculated from:\n",
    "\n",
    "\\begin{equation}\n",
    "    \\frac{1}{2} L'_{k}I_{z}^{2} = \\frac{1}{2} \\mu_{0} \\lambda^{2} \\int j^{2} dS\n",
    "\\end{equation}\n",
    "\n",
    "When $\\lambda^{2}/d \\ll a $, the supercurrent density is well approximated by\n",
    "\n",
    "\\begin{equation}\n",
    "    j_{z}(x,y) = \\frac{K_{z}(x)}{2\\lambda} \\frac{ \\cosh\\left( \\frac{y}{\\lambda} \\right) }{ \\sinh\\left( \\frac{ d}{ 2\\lambda } \\right) }\n",
    "\\end{equation}\n",
    "\n",
    "....apart from very close to the slots. $K_{z}(x)$ has been given earlier, and the integral of $j^{2}_{z}(x,y)$ over the film thickness is\n",
    "\n",
    "\\begin{equation}\n",
    "    \\int_{-d/2}^{d/2} j^{2}_{z}(x,y)dy = K^{2}_{z}(x) \\frac{q(d/\\lambda)}{\\lambda}\n",
    "\\end{equation}\n",
    "\n",
    ".... where \n",
    "\n",
    "\\begin{equation}\n",
    "    q(u) = \\frac{ \\sinh u+u }{ 8 \\sinh^{2} \\left(u/2\\right) }\n",
    "\\end{equation}\n",
    "\n",
    "Note, $q(u) \\approx 1/u$ when $u \\ll 1$, and $q(u) \\approx 1/4$ when $u \\gg 1$\n",
    "\n",
    "<img src = \"figs/jz_from_section_IIB.pdf\" >\n",
    "\n",
    "$K^{2}_{z}(x)$ diverges at the edges of the slots, and so the integral of this quantity over x cannot be full evaluated, unless it is cut off at $x=\\pm(a-\\delta_{a})$ and $x=\\pm(b+\\delta_{b})$, where $\\delta_{a} \\ll a$ and $\\delta_{b} \\ll b$. The cutoffs must be chosen such that the magnitudes of the current in the central conductor and the total return current in the ground plane are the same. With this in mind, evaluating the currents for $|x| < a-\\delta_{a}$ and $|x| > b+\\delta_{b}$ gives the condition:\n",
    "\n",
    "\\begin{equation}\n",
    "    F\\left[ \\arcsin\\left( \\frac{a-\\delta_{a}}{a}, \\frac{a}{b} \\right) \\right] = F\\left[ \\arcsin\\left( \\frac{b}{\\delta_{b}+b}, \\frac{a}{b} \\right) \\right]\n",
    "\\end{equation}\n",
    "\n",
    ".... i.e. that $\\delta_{a}/a = \\delta_{b}/b = \\epsilon \\ll 1$. Applying this cutoff to evaluate the integral of $K_{z}^{2}(x)$ over x yields, to lowest order in $\\epsilon$:\n",
    "\n",
    "\\begin{align}\n",
    "    L'_{k} &= \\frac{\\mu_{0} \\lambda_{q}(d/\\lambda)}{4a(1-k)\\textbf{K}^{2}(k)} \\ln \\left[ \\frac{2(1-k)}{\\epsilon(1+k)} \\right] \\\\ \n",
    "    &\\approx \\frac{\\mu_{0}\\lambda}{2a} q(d/\\lambda) g_{\\epsilon}(k,\\epsilon)\n",
    "\\end{align}\n",
    "\n",
    "....where \n",
    "\n",
    "\\begin{equation}\n",
    "    g_{\\epsilon}(k,\\epsilon) = \\frac{1}{2(1-k)\\textbf{K}^{2}(k)} \\ln \\left[ \\frac{2(1-k)}{\\epsilon(1+k)} \\right]\n",
    "\\end{equation}\n",
    "\n",
    "With this, we can plot the kinetic inductance for the case where $\\lambda^{2}/d \\ll a$\n",
    "\n",
    "<img src = \"figs/Lki_from_section_IIB.pdf\" >\n",
    "\n",
    "A similar derivation was provided by both Watanabe, et al, J. Appl. Phys. **33**, 5708 (1994) and Booth, Holloway, and Kuester, IEEE International Symposium on Electromagnetic Compatibility 594 (2001). however, in these analyses, the cutoff lengths $\\delta_{a}$ and $\\delta_{b}$ were assumed to be the same. This is in vioplation of the requirement that the magnitude centre conductor current is the same as the return current in the ground plane. Both papers derived expressions for $L'_{k}$ that contain two logarithmic terms arising from the cutoffs near $a$ and $b$. These are both similar to the RHS of the equation above, which is in approximate agreement with the derivations of these two papers. \n",
    "\n",
    "Watanabe, et al used $w$ as the width, $s$ as the gap, and $\\delta=d/4$ as the single cutoff length. Here, we have $a=w/2$, $b=w/2+s$, and $\\delta=d/4$. With this, they derived an equation for $g(s,w,d)$:\n",
    "\n",
    "\\begin{align}\n",
    "    g(s,w,t) = \\frac{1}{2k^{2}K(k)^{2}} \\left\\{ -\\ln \\frac{t}{4w} - \\frac{w}{w+2s} \\ln \\frac{t}{4(w+2s)} + \\frac{2(w+2s)}{w+2s} \\ln \\frac{s}{w+s} \\right\\}\n",
    "\\end{align}\n",
    "\n",
    "Our equation here for the kinetic inductance is in agreement with Watanabe's when $s\\ll w$, except for a typo in that paper: the $k^{2}$ in the denominator of the prefactor should have been $k'^{2} = 1-k^{2}$.\n",
    "\n",
    "\n",
    "Merseverey and Teddow, J. Appl. Phys. **40**, 2028 (1969) calculated the kinetic inductance of a long, thin superconducting strip. To handle the divergence, they introduced a single cutoff length $\\delta$ given by $\\delta \\approx \\delta/2$ when $d>2\\lambda$ and $\\delta \\approx d/4$ when $d < 2\\lambda$. However, it is now well understood taht for $d<2\\lambda$, the equations for the current density and self-field no longer contain the openetration depth $\\lambda$, but instead contain the Pearl length or two-dimensional screening length $\\lambda = 2\\lambda^{2}/d$. Consequently, when $d<2\\lambda$, it is incorrect to assume that $\\delta \\approx d/4$, and instead a cuttof of order $\\lambda^{2}/d$ should be used. We can see the effect of this in the below figure:\n",
    "\n",
    "<img src = \"figs/compare_Clem_Lki_w_ec.pdf\">"
   ]
  },
  {
   "cell_type": "markdown",
   "metadata": {},
   "source": []
  },
  {
   "cell_type": "code",
   "execution_count": null,
   "metadata": {},
   "outputs": [],
   "source": []
  },
  {
   "cell_type": "code",
   "execution_count": null,
   "metadata": {},
   "outputs": [],
   "source": []
  },
  {
   "cell_type": "code",
   "execution_count": null,
   "metadata": {},
   "outputs": [],
   "source": []
  },
  {
   "cell_type": "code",
   "execution_count": null,
   "metadata": {},
   "outputs": [],
   "source": []
  },
  {
   "cell_type": "code",
   "execution_count": null,
   "metadata": {},
   "outputs": [],
   "source": []
  },
  {
   "cell_type": "code",
   "execution_count": null,
   "metadata": {},
   "outputs": [],
   "source": []
  },
  {
   "cell_type": "code",
   "execution_count": null,
   "metadata": {},
   "outputs": [],
   "source": []
  },
  {
   "cell_type": "code",
   "execution_count": 14,
   "metadata": {},
   "outputs": [],
   "source": [
    "# def current_density(xlist,a=1,b=2,A=1):\n",
    "    \n",
    "#     Kz = []\n",
    "\n",
    "#         if abs(x) < a:\n",
    "#             Kz.append( 2*A / ( np.sqrt( (a**2 - x**2)*(b**2 - x**2) )) )\n",
    "#         elif abs(x) > b:\n",
    "#             Kz.append( -2*A / ( np.sqrt( (x**2 - a**2)*(x**2 - b**2) )) )\n",
    "    \n",
    "#     # pad out Kz to make it the right length\n",
    "#     ls = int(.5*(len(xlist)-len(Kz)))\n",
    "#     klhs = Kz[0]*np.ones(ls)\n",
    "#     krhs = Kz[len(Kz)-1]*np.ones(ls)\n",
    "#     Kz = list(np.concatenate((np.concatenate((klhs,Kz)),krhs)))\n",
    "#     return Kz\n",
    "\n",
    "# def complex_field(xlist,a=1,b=2,A=1):\n",
    "#     Hy = []\n",
    "    \n",
    "#     for i in range(len(xlist)):\n",
    "#         mod1 = xlist[i]**2 - a**2\n",
    "#         mod2 = b**2 - xlist[i]**2\n",
    "#         if xlist[i] < a:\n",
    "#             Hy.append( -a / ( (abs(xlist[i]) * np.sqrt(mod1 * mod2)) ) )\n",
    "#         if xlist[i] > a:\n",
    "#             Hy.append( a / ( (abs(xlist[i]) * np.sqrt(mod1 * mod2)) ) )\n",
    "#     return(Hy)"
   ]
  },
  {
   "cell_type": "code",
   "execution_count": 15,
   "metadata": {},
   "outputs": [],
   "source": [
    "# xlist = np.arange(-4,4,0.0005)\n",
    "# Kz = current_density(xlist)\n",
    "# Hy = complex_field(xlist)"
   ]
  },
  {
   "cell_type": "code",
   "execution_count": 16,
   "metadata": {},
   "outputs": [],
   "source": [
    "# from scipy.special import ellipk\n",
    "# from scipy.constants import constants as sc"
   ]
  },
  {
   "cell_type": "code",
   "execution_count": 17,
   "metadata": {},
   "outputs": [],
   "source": [
    "# def get_geometric_inductance(a,b):\n",
    "#     k = a/b\n",
    "#     kp = np.sqrt(1-k**2)\n",
    "    \n",
    "#     Lml = (sc.mu_0 * ellipk(kp)) / ellipk(k)\n",
    "    \n",
    "#     for i in range(len(Lml)):\n",
    "#         if np.isnan(Lml[i]):\n",
    "#             Lml[i] = 0\n",
    "            \n",
    "#     return Lml\n",
    "\n",
    "# def get_Lml1(a,b):\n",
    "#     k = a/b\n",
    "#     kp = np.sqrt(1-k**2)\n",
    "    \n",
    "#     Lml1 = (sc.mu_0)/(2*np.pi) * (np.log(4*b/a) - (a/2*b)**2)\n",
    "    \n",
    "#     for i in range(len(Lml)):\n",
    "#         if np.isnan(Lml[i]):\n",
    "#             Lml[i] = 0\n",
    "            \n",
    "#     return Lml1\n",
    "\n",
    "# def get_Lml2(a,b):\n",
    "#     k = a/b\n",
    "#     kp = np.sqrt(1-k**2)\n",
    "    \n",
    "#     Lml2 = ((np.pi*sc.mu_0)/4) / np.log((8*a)/(b-a))\n",
    "    \n",
    "#     for i in range(len(Lml)):\n",
    "#         if np.isnan(Lml[i]):\n",
    "#             Lml[i] = 0\n",
    "            \n",
    "#     return Lml2"
   ]
  },
  {
   "cell_type": "code",
   "execution_count": 18,
   "metadata": {},
   "outputs": [],
   "source": [
    "# a0 = 5e-06\n",
    "# b0 = np.arange(0.1e-06,16e-06,0.05e-06)\n",
    "# boa = b0 / a0\n",
    "# Lml = get_geometric_inductance(a0,b0)\n",
    "\n",
    "# a1 = 5e-06\n",
    "# b0 = np.arange(5e-06,16e-06,0.05e-06)\n",
    "# boa0 = b0 / a0\n",
    "# Lml1 = get_Lml1(a0,b0)\n",
    "\n",
    "# Lml2 = get_Lml2(a0,b0)"
   ]
  },
  {
   "cell_type": "markdown",
   "metadata": {},
   "source": [
    "<img src=\"figs/ClemFig3_Lm_with_approxs.pdf\" >"
   ]
  },
  {
   "cell_type": "code",
   "execution_count": 77,
   "metadata": {},
   "outputs": [
    {
     "data": {
      "image/png": "[encoded data removed]",
      "text/plain": [
       "<Figure size 864x576 with 1 Axes>"
      ]
     },
     "metadata": {
      "image/png": {
       "height": 480,
       "width": 712
      }
     },
     "output_type": "display_data"
    }
   ],
   "source": [
    "pen_depth = 33.3e-09\n",
    "d = 50e-09\n",
    "\n",
    "def qu(u):\n",
    "    return (np.sinh(u) + u) / (8*np.sinh(u/2)**2)\n",
    "\n",
    "supercurrent = np.array([k**2*qu(d/pen_depth) for k in Kz])\n",
    "\n",
    "plt.figure(figsize=(12,8))\n",
    "plt.plot(xlist,supercurrent)\n",
    "# plt.plot([-4.0,4.0],[0,0], linewidth=2, color = 'k')\n",
    "# plt.axhline(y=0, xmin=.4, xmax=.7, linewidth=6, color = 'k')\n",
    "plt.ylim(-2,5)\n",
    "plt.show()"
   ]
  },
  {
   "cell_type": "code",
   "execution_count": 114,
   "metadata": {},
   "outputs": [
    {
     "data": {
      "text/plain": [
       "5.328900063452066"
      ]
     },
     "execution_count": 114,
     "metadata": {},
     "output_type": "execute_result"
    }
   ],
   "source": [
    "def g_watanabe(a,b):\n",
    "    k = a/b\n",
    "    ec = 1e-09\n",
    "    l1 = (1/(2*(1-k)))\n",
    "    l2 = ec*(1+k)\n",
    "    return ( 1/( 2*(1-k) * ellipk(k)**2 ) ) * np.log( l1/l2 )\n",
    "\n",
    "a=2e-06\n",
    "b=5e-06\n",
    "g = g_watanabe(a,b)\n",
    "\n",
    "def kinetic_inductance_1():\n",
    "    ((sc.mu_0*pen_depth*qu(d/pen_depth)) / (4a*(1-k)*ellipk(k)**2) )\n",
    "    \n",
    "    \n",
    "    "
   ]
  },
  {
   "cell_type": "code",
   "execution_count": 99,
   "metadata": {},
   "outputs": [
    {
     "data": {
      "text/plain": [
       "1.7775193714912532"
      ]
     },
     "execution_count": 99,
     "metadata": {},
     "output_type": "execute_result"
    }
   ],
   "source": [
    "a=2e-06\n",
    "b=5e-06\n",
    "ellipk(a/b)"
   ]
  },
  {
   "cell_type": "markdown",
   "metadata": {},
   "source": [
    "## Thin Film CPW with Narrow Slits"
   ]
  },
  {
   "cell_type": "markdown",
   "metadata": {},
   "source": [
    "### Exact solution for a film with one long slit"
   ]
  },
  {
   "cell_type": "code",
   "execution_count": 12,
   "metadata": {},
   "outputs": [],
   "source": [
    "from scipy.integrate import quad\n",
    "\n",
    "def sgn(x):\n",
    "    return np.sign(x) # Sign function\n",
    "\n",
    "def pearl_length(pen_depth,d):\n",
    "    return (2*pen_depth**2)/d\n",
    "\n",
    "def flux_quantum():\n",
    "    return sc.h / (2*sc.e)\n",
    "\n",
    "def flux_per_length(d,a):\n",
    "    return a*d*(flux_quantum()**2)\n",
    "\n",
    "def f(x,pearl_len):\n",
    "    return quad(lambda t: np.exp(-(x/pearl_len)*t)/((t**2)+1), 0, np.inf)"
   ]
  },
  {
   "cell_type": "code",
   "execution_count": 13,
   "metadata": {},
   "outputs": [],
   "source": [
    "pen_depth = 33.3e-09\n",
    "\n",
    "aset = 5e-06\n",
    "bset = 2e-06\n",
    "lset = 1 # set length top one to get the cross section\n",
    "d = 0.05e-06\n",
    "\n",
    "pearl_len = pearl_length(pen_depth,d)\n",
    "\n",
    "flux_pl = flux_per_length(d,aset)\n",
    "\n",
    "x = np.arange(-.5e-06,.5e-06,0.01e-06)\n",
    "\n",
    "K0x = [( (-2*flux_pl*sgn(xr) ) / (np.pi * sc.mu_0 * pearl_len) ) * f(abs(xr),pearl_len)[0] for xr in x]"
   ]
  },
  {
   "cell_type": "code",
   "execution_count": 14,
   "metadata": {},
   "outputs": [
    {
     "data": {
      "image/png": "[encoded data removed]",
      "text/plain": [
       "<Figure size 432x288 with 1 Axes>"
      ]
     },
     "metadata": {
      "needs_background": "light"
     },
     "output_type": "display_data"
    }
   ],
   "source": [
    "plt.plot(x/aset,np.array(K0x)*aset)\n",
    "plt.show()"
   ]
  },
  {
   "cell_type": "markdown",
   "metadata": {},
   "source": [
    "#### Calculate the supercurrent density\n",
    "\n",
    "\n",
    "\\begin{equation}\n",
    "    \\int_{-d/2}^{d/2} j^{2}_{z}(x,y)dy = K^{2}_{z}(x) \\frac{q(d/\\lambda)}{\\lambda}\n",
    "\\end{equation}\n",
    "\n",
    ".... where \n",
    "\n",
    "\\begin{equation}\n",
    "    q(u) = \\frac{ \\sinh u+u }{ 8 \\sinh^{2} \\left(u/2\\right) }\n",
    "\\end{equation}"
   ]
  },
  {
   "cell_type": "code",
   "execution_count": 19,
   "metadata": {},
   "outputs": [],
   "source": [
    "def qu(u):\n",
    "    return (np.sinh(u) + u) / (8*np.sinh(u/2)**2)\n",
    "\n",
    "supercurrent = [k**2*qu(d/pen_depth) for k in K0x]"
   ]
  },
  {
   "cell_type": "code",
   "execution_count": 33,
   "metadata": {},
   "outputs": [
    {
     "data": {
      "image/png": "[encoded data removed]",
      "text/plain": [
       "<Figure size 432x288 with 1 Axes>"
      ]
     },
     "metadata": {
      "needs_background": "light"
     },
     "output_type": "display_data"
    }
   ],
   "source": [
    "plt.plot(x/aset,supercurrent)\n",
    "# plt.ylim(min(supercurrent),.5e-59)\n",
    "plt.show()"
   ]
  },
  {
   "cell_type": "code",
   "execution_count": null,
   "metadata": {},
   "outputs": [],
   "source": []
  }
 ],
 "metadata": {
  "kernelspec": {
   "display_name": "Python 3",
   "language": "python",
   "name": "python3"
  },
  "language_info": {
   "codemirror_mode": {
    "name": "ipython",
    "version": 3
   },
   "file_extension": ".py",
   "mimetype": "text/x-python",
   "name": "python",
   "nbconvert_exporter": "python",
   "pygments_lexer": "ipython3",
   "version": "3.6.3"
  }
 },
 "nbformat": 4,
 "nbformat_minor": 2
}
